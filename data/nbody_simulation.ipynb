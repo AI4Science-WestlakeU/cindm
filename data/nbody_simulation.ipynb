{
 "cells": [
  {
   "cell_type": "code",
   "execution_count": 3,
   "id": "df60cb4f-1d95-4e35-9d01-9168c6193599",
   "metadata": {},
   "outputs": [
    {
     "name": "stdout",
     "output_type": "stream",
     "text": [
      "pygame 2.5.0 (SDL 2.28.0, Python 3.7.12)\n",
      "Hello from the pygame community. https://www.pygame.org/contribute.html\n"
     ]
    }
   ],
   "source": [
    "import argparse\n",
    "import numpy as np\n",
    "import pprint as pp\n",
    "import pymunk\n",
    "import pygame\n",
    "import random\n",
    "from tqdm.auto import tqdm\n",
    "from utils import make_dir\n",
    "import imageio"
   ]
  },
  {
   "cell_type": "code",
   "execution_count": 4,
   "id": "377020db-5c1e-47cb-887c-5d0ae1fc2b04",
   "metadata": {},
   "outputs": [
    {
     "name": "stdout",
     "output_type": "stream",
     "text": [
      "{'n_bodies': 2, 'n_simulations': 1000}\n",
      "Save file at dataset/nbody_dataset/nbody-2/trajectory_balls_2_simu_1000_steps_1000.npy.\n"
     ]
    }
   ],
   "source": [
    "# Configuration\n",
    "parser = argparse.ArgumentParser(description='Train EBM model')\n",
    "parser.add_argument('--n_bodies', default=2, type=int,\n",
    "                    help='Number of bodies')\n",
    "parser.add_argument('--n_simulations', default=1000, type=int,\n",
    "                    help='Number of simulations')\n",
    "try:\n",
    "    get_ipython().run_line_magic('matplotlib', 'inline')\n",
    "    %load_ext autoreload\n",
    "    %autoreload 2\n",
    "    is_jupyter = True\n",
    "    FLAGS = parser.parse_args([])\n",
    "    FLAGS.n_bodies = 2\n",
    "except:\n",
    "    FLAGS = parser.parse_args()\n",
    "pp.pprint(FLAGS.__dict__)\n",
    "\n",
    "width, height = 200, 200\n",
    "n_bodies = FLAGS.n_bodies\n",
    "radius = 20\n",
    "mass = 1\n",
    "n_simulations = FLAGS.n_simulations\n",
    "n_steps = 1000\n",
    "is_visualize = True\n",
    "filename = f'dataset/nbody_dataset/nbody-{n_bodies}/trajectory_balls_{n_bodies}_simu_{n_simulations}_steps_{n_steps}.npy'\n",
    "videofile=f'dataset/nbody_dataset/nbody-{n_bodies}/trajectory_balls_{n_bodies}_simu_{n_simulations}_steps_{n_steps}.gif'\n",
    "make_dir(filename)\n",
    "print(f\"Save file at {filename}.\")\n",
    "\n",
    "def add_body(space):\n",
    "    inertia = pymunk.moment_for_circle(mass, 0, radius)\n",
    "    body = pymunk.Body(mass, inertia)\n",
    "    x = random.randint(radius, width - radius)\n",
    "    y = random.randint(radius, height - radius)\n",
    "    body.position = x, y\n",
    "\n",
    "    # Assign a random initial velocity\n",
    "    vx = random.uniform(-100, 100)\n",
    "    vy = random.uniform(-100, 100)\n",
    "    body.velocity = vx, vy\n",
    "\n",
    "    shape = pymunk.Circle(body, radius)\n",
    "    shape.elasticity = 1.0\n",
    "    shape.friction = 0.0\n",
    "    space.add(body, shape)\n",
    "    return body\n",
    "\n",
    "def add_walls(space):\n",
    "    walls = [\n",
    "        pymunk.Segment(space.static_body, (0, 0), (0, height), 1),\n",
    "        pymunk.Segment(space.static_body, (0, height), (width, height), 1),\n",
    "        pymunk.Segment(space.static_body, (width, height), (width, 0), 1),\n",
    "        pymunk.Segment(space.static_body, (width, 0), (0, 0), 1)\n",
    "    ]\n",
    "    for wall in walls:\n",
    "        wall.elasticity = 1.0\n",
    "        wall.friction = 0.0\n",
    "        space.add(wall)\n",
    "\n",
    "def draw_bodies(screen, bodies):\n",
    "    for body in bodies:\n",
    "        x, y = body.position\n",
    "        color = pygame.Color(body.color)\n",
    "        pygame.draw.circle(screen, color, (int(x), int(y)), radius)\n",
    "\n",
    "def run_simulation(space, bodies, n_steps, clock, screen=None):\n",
    "    position_data = np.zeros((n_steps, len(bodies), 4))\n",
    "    frames=[]\n",
    "    for i in range(n_steps):\n",
    "        if screen is not None:\n",
    "            for event in pygame.event.get():\n",
    "                if event.type == pygame.QUIT:\n",
    "                    return None\n",
    "\n",
    "        for j, body in enumerate(bodies):\n",
    "            position_data[i, j, :2] = body.position\n",
    "            position_data[i, j, 2:] = body.velocity\n",
    "\n",
    "        if screen is not None:\n",
    "            screen.fill((255, 255, 255))\n",
    "            draw_bodies(screen, bodies)  # Draw the bodies with colors\n",
    "\n",
    "        space.step(1/60.0)\n",
    "        if screen is not None:\n",
    "            pygame.display.flip()\n",
    "        screen_data = pygame.surfarray.array3d(screen)\n",
    "        frames.append(screen_data)\n",
    "        clock.tick(60)\n",
    "    imageio.mimsave(videofile, frames, 60)\n",
    "    return position_data\n",
    "\n",
    "def main():\n",
    "    pygame.init()\n",
    "    if is_visualize:\n",
    "        screen = pygame.display.set_mode((width, height))\n",
    "    else:\n",
    "        screen = None\n",
    "    clock = pygame.time.Clock()\n",
    "\n",
    "    all_position_data = []\n",
    "\n",
    "    for sim in tqdm(range(n_simulations)):\n",
    "        print(f\"simu: {sim}\")\n",
    "        space = pymunk.Space()\n",
    "        space.gravity = (0, 0)\n",
    "\n",
    "        add_walls(space)  # Add the walls\n",
    "\n",
    "        bodies = [add_body(space) for _ in range(n_bodies)]\n",
    "\n",
    "        # Assign a random color to each body\n",
    "        for body in bodies:\n",
    "            body.color = (random.randint(0, 255), random.randint(0, 255), random.randint(0, 255))\n",
    "\n",
    "        position_data = run_simulation(space, bodies, n_steps, clock, screen=screen)\n",
    "        if position_data is not None:\n",
    "            all_position_data.append(position_data)\n",
    "        else:\n",
    "            break\n",
    "        \n",
    "        # Save the position data to an .npy file\n",
    "        all_position_data_save = np.array(all_position_data)\n",
    "        np.save(filename, all_position_data_save) ##[n_simulations, n_steps, n_bodies, 4 ] 4 inculde (x,y,vx,vy)\n",
    "\n",
    "    pygame.quit()"
   ]
  },
  {
   "cell_type": "code",
   "execution_count": 5,
   "id": "712a71fd-fbf7-4f4f-9dfa-e74490c60389",
   "metadata": {
    "tags": []
   },
   "outputs": [
    {
     "name": "stderr",
     "output_type": "stream",
     "text": [
      "ALSA lib confmisc.c:767:(parse_card) cannot find card '0'\n",
      "ALSA lib conf.c:4732:(_snd_config_evaluate) function snd_func_card_driver returned error: No such file or directory\n",
      "ALSA lib confmisc.c:392:(snd_func_concat) error evaluating strings\n",
      "ALSA lib conf.c:4732:(_snd_config_evaluate) function snd_func_concat returned error: No such file or directory\n",
      "ALSA lib confmisc.c:1246:(snd_func_refer) error evaluating name\n",
      "ALSA lib conf.c:4732:(_snd_config_evaluate) function snd_func_refer returned error: No such file or directory\n",
      "ALSA lib conf.c:5220:(snd_config_expand) Evaluate error: No such file or directory\n",
      "ALSA lib pcm.c:2642:(snd_pcm_open_noupdate) Unknown PCM default\n"
     ]
    },
    {
     "data": {
      "application/vnd.jupyter.widget-view+json": {
       "model_id": "ef0282699f924a3dab8431451f5dbf08",
       "version_major": 2,
       "version_minor": 0
      },
      "text/plain": [
       "  0%|          | 0/1000 [00:00<?, ?it/s]"
      ]
     },
     "metadata": {},
     "output_type": "display_data"
    },
    {
     "name": "stdout",
     "output_type": "stream",
     "text": [
      "simu: 0\n",
      "simu: 1\n",
      "simu: 2\n",
      "simu: 3\n",
      "simu: 4\n",
      "simu: 5\n",
      "simu: 6\n",
      "simu: 7\n",
      "simu: 8\n",
      "simu: 9\n",
      "simu: 10\n",
      "simu: 11\n"
     ]
    },
    {
     "ename": "KeyboardInterrupt",
     "evalue": "",
     "output_type": "error",
     "traceback": [
      "\u001b[0;31m---------------------------------------------------------------------------\u001b[0m",
      "\u001b[0;31mKeyboardInterrupt\u001b[0m                         Traceback (most recent call last)",
      "\u001b[0;32m/tmp/ipykernel_9229/3832242952.py\u001b[0m in \u001b[0;36m<module>\u001b[0;34m\u001b[0m\n\u001b[1;32m      1\u001b[0m \u001b[0;32mif\u001b[0m \u001b[0m__name__\u001b[0m \u001b[0;34m==\u001b[0m \u001b[0;34m\"__main__\"\u001b[0m\u001b[0;34m:\u001b[0m\u001b[0;34m\u001b[0m\u001b[0;34m\u001b[0m\u001b[0m\n\u001b[0;32m----> 2\u001b[0;31m     \u001b[0mmain\u001b[0m\u001b[0;34m(\u001b[0m\u001b[0;34m)\u001b[0m\u001b[0;34m\u001b[0m\u001b[0;34m\u001b[0m\u001b[0m\n\u001b[0m",
      "\u001b[0;32m/tmp/ipykernel_9229/2792348487.py\u001b[0m in \u001b[0;36mmain\u001b[0;34m()\u001b[0m\n\u001b[1;32m    110\u001b[0m             \u001b[0mbody\u001b[0m\u001b[0;34m.\u001b[0m\u001b[0mcolor\u001b[0m \u001b[0;34m=\u001b[0m \u001b[0;34m(\u001b[0m\u001b[0mrandom\u001b[0m\u001b[0;34m.\u001b[0m\u001b[0mrandint\u001b[0m\u001b[0;34m(\u001b[0m\u001b[0;36m0\u001b[0m\u001b[0;34m,\u001b[0m \u001b[0;36m255\u001b[0m\u001b[0;34m)\u001b[0m\u001b[0;34m,\u001b[0m \u001b[0mrandom\u001b[0m\u001b[0;34m.\u001b[0m\u001b[0mrandint\u001b[0m\u001b[0;34m(\u001b[0m\u001b[0;36m0\u001b[0m\u001b[0;34m,\u001b[0m \u001b[0;36m255\u001b[0m\u001b[0;34m)\u001b[0m\u001b[0;34m,\u001b[0m \u001b[0mrandom\u001b[0m\u001b[0;34m.\u001b[0m\u001b[0mrandint\u001b[0m\u001b[0;34m(\u001b[0m\u001b[0;36m0\u001b[0m\u001b[0;34m,\u001b[0m \u001b[0;36m255\u001b[0m\u001b[0;34m)\u001b[0m\u001b[0;34m)\u001b[0m\u001b[0;34m\u001b[0m\u001b[0;34m\u001b[0m\u001b[0m\n\u001b[1;32m    111\u001b[0m \u001b[0;34m\u001b[0m\u001b[0m\n\u001b[0;32m--> 112\u001b[0;31m         \u001b[0mposition_data\u001b[0m \u001b[0;34m=\u001b[0m \u001b[0mrun_simulation\u001b[0m\u001b[0;34m(\u001b[0m\u001b[0mspace\u001b[0m\u001b[0;34m,\u001b[0m \u001b[0mbodies\u001b[0m\u001b[0;34m,\u001b[0m \u001b[0mn_steps\u001b[0m\u001b[0;34m,\u001b[0m \u001b[0mclock\u001b[0m\u001b[0;34m,\u001b[0m \u001b[0mscreen\u001b[0m\u001b[0;34m=\u001b[0m\u001b[0mscreen\u001b[0m\u001b[0;34m)\u001b[0m\u001b[0;34m\u001b[0m\u001b[0;34m\u001b[0m\u001b[0m\n\u001b[0m\u001b[1;32m    113\u001b[0m         \u001b[0;32mif\u001b[0m \u001b[0mposition_data\u001b[0m \u001b[0;32mis\u001b[0m \u001b[0;32mnot\u001b[0m \u001b[0;32mNone\u001b[0m\u001b[0;34m:\u001b[0m\u001b[0;34m\u001b[0m\u001b[0;34m\u001b[0m\u001b[0m\n\u001b[1;32m    114\u001b[0m             \u001b[0mall_position_data\u001b[0m\u001b[0;34m.\u001b[0m\u001b[0mappend\u001b[0m\u001b[0;34m(\u001b[0m\u001b[0mposition_data\u001b[0m\u001b[0;34m)\u001b[0m\u001b[0;34m\u001b[0m\u001b[0;34m\u001b[0m\u001b[0m\n",
      "\u001b[0;32m/tmp/ipykernel_9229/2792348487.py\u001b[0m in \u001b[0;36mrun_simulation\u001b[0;34m(space, bodies, n_steps, clock, screen)\u001b[0m\n\u001b[1;32m     83\u001b[0m         \u001b[0;32mif\u001b[0m \u001b[0mscreen\u001b[0m \u001b[0;32mis\u001b[0m \u001b[0;32mnot\u001b[0m \u001b[0;32mNone\u001b[0m\u001b[0;34m:\u001b[0m\u001b[0;34m\u001b[0m\u001b[0;34m\u001b[0m\u001b[0m\n\u001b[1;32m     84\u001b[0m             \u001b[0mpygame\u001b[0m\u001b[0;34m.\u001b[0m\u001b[0mdisplay\u001b[0m\u001b[0;34m.\u001b[0m\u001b[0mflip\u001b[0m\u001b[0;34m(\u001b[0m\u001b[0;34m)\u001b[0m\u001b[0;34m\u001b[0m\u001b[0;34m\u001b[0m\u001b[0m\n\u001b[0;32m---> 85\u001b[0;31m         \u001b[0mclock\u001b[0m\u001b[0;34m.\u001b[0m\u001b[0mtick\u001b[0m\u001b[0;34m(\u001b[0m\u001b[0;36m60\u001b[0m\u001b[0;34m)\u001b[0m\u001b[0;34m\u001b[0m\u001b[0;34m\u001b[0m\u001b[0m\n\u001b[0m\u001b[1;32m     86\u001b[0m \u001b[0;34m\u001b[0m\u001b[0m\n\u001b[1;32m     87\u001b[0m     \u001b[0;32mreturn\u001b[0m \u001b[0mposition_data\u001b[0m\u001b[0;34m\u001b[0m\u001b[0;34m\u001b[0m\u001b[0m\n",
      "\u001b[0;31mKeyboardInterrupt\u001b[0m: "
     ]
    }
   ],
   "source": [
    "if __name__ == \"__main__\":\n",
    "    main()"
   ]
  },
  {
   "cell_type": "code",
   "execution_count": 2,
   "id": "f881a865",
   "metadata": {},
   "outputs": [],
   "source": [
    "##The following is to process data with adding more features for the dataset,just for two bodies\n",
    "import torch\n",
    "import math\n",
    "import numpy as np\n",
    "width=200\n",
    "height=200\n",
    "filename = f'dataset/nbody_dataset/nbody-{2}/trajectory_balls_{2}_simu_{1000}_steps_{1000}_processed.npy'\n",
    "dataset_init=np.load(\"/user/project/inverse_design/dataset/nbody_dataset/nbody-2/trajectory_balls_2_simu_1000_steps_1000.npy\")\n",
    "dataset_init_tensor=torch.tensor(dataset_init)\n",
    "dataset_final=torch.ones((dataset_init_tensor.shape[0],dataset_init_tensor.shape[1],dataset_init_tensor.shape[2],11),dtype=float)\n",
    "for i in range(dataset_final.shape[0]):\n",
    "    for j in range(dataset_final.shape[1]):\n",
    "        for k in range(dataset_final.shape[2]):\n",
    "            dataset_final[i][j][k][0]=dataset_init_tensor[i][j][k][0]\n",
    "            dataset_final[i][j][k][1]=dataset_init_tensor[i][j][k][1]\n",
    "            dataset_final[i][j][k][2]=dataset_init_tensor[i][j][k][2]\n",
    "            dataset_final[i][j][k][3]=dataset_init_tensor[i][j][k][3]\n",
    "            dataset_final[i][j][k][4]=dataset_init_tensor[i][j][k][0]-dataset_init_tensor[i][j][1-k][0]\n",
    "            dataset_final[i][j][k][5]=dataset_init_tensor[i][j][k][1]-dataset_init_tensor[i][j][1-k][1]\n",
    "            #distance between body1 and body2\n",
    "            dataset_final[i][j][k][6]=torch.sqrt((dataset_init_tensor[i][j][k][0]-dataset_init_tensor[i][j][1-k][0])*(dataset_init_tensor[i][j][k][0]-dataset_init_tensor[i][j][1-k][0])+(dataset_init_tensor[i][j][k][1]-dataset_init_tensor[i][j][1-k][1])*(dataset_init_tensor[i][j][k][1]-dataset_init_tensor[i][j][1-k][1]))\n",
    "            # distance between body and left wall\n",
    "            dataset_final[i][j][k][7]=torch.abs(dataset_init_tensor[i][j][k][0])\n",
    "            # distance between body and up wall\n",
    "            dataset_final[i][j][k][8]=torch.abs(dataset_init_tensor[i][j][k][1])\n",
    "            # distance between body and right wall\n",
    "            dataset_final[i][j][k][9]=torch.abs(width-dataset_init_tensor[i][j][k][0])\n",
    "            # distance between body and down wall\n",
    "            dataset_final[i][j][k][10]=torch.abs(height-dataset_init_tensor[i][j][k][1])\n",
    "dataset_final_np=np.array(dataset_final)\n",
    "np.save(filename,dataset_final_np)\n"
   ]
  }
 ],
 "metadata": {
  "kernelspec": {
   "display_name": "Python 3",
   "language": "python",
   "name": "python3"
  },
  "language_info": {
   "codemirror_mode": {
    "name": "ipython",
    "version": 3
   },
   "file_extension": ".py",
   "mimetype": "text/x-python",
   "name": "python",
   "nbconvert_exporter": "python",
   "pygments_lexer": "ipython3",
   "version": "3.7.12"
  }
 },
 "nbformat": 4,
 "nbformat_minor": 5
}

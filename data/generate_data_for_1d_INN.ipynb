{
 "cells": [
  {
   "cell_type": "code",
   "execution_count": 1,
   "metadata": {},
   "outputs": [],
   "source": [
    "import torch\n",
    "import numpy as np\n",
    "import pdb"
   ]
  },
  {
   "cell_type": "code",
   "execution_count": 9,
   "metadata": {},
   "outputs": [
    {
     "name": "stdout",
     "output_type": "stream",
     "text": [
      "max: 0.9085606255790977\n",
      "min: -0.9062428653811634\n",
      "torch.Size([6000, 1000, 8])\n"
     ]
    }
   ],
   "source": [
    "trajectories_np=np.load(\"/user/project/inverse_design_old/dataset/nbody_dataset/nbody-2/trajectory_balls_2_simu_6000_steps_1000.npy\")\n",
    "print(\"max:\",np.max(trajectories_np/200.0))\n",
    "print(\"min:\",np.min(trajectories_np/200.0))\n",
    "trajectories_tensor=torch.tensor(trajectories_np/200.)\n",
    "# print(trajectories_np)\n",
    "# print(\"tensor\",trajectories_tensor)\n",
    "trajectories_tensor_reshape1=trajectories_tensor.reshape(trajectories_tensor.shape[0],trajectories_tensor.shape[1],-1)\n",
    "# trajectories_tensor_reshape2=trajectories_tensor_reshape1.reshape(trajectories_tensor_reshape1.shape[0],-1)\n",
    "print(trajectories_tensor_reshape1.shape)"
   ]
  },
  {
   "cell_type": "code",
   "execution_count": 3,
   "metadata": {},
   "outputs": [],
   "source": [
    "\n",
    "def get_y(pos,pos_target):\n",
    "    gamma=2\n",
    "    loss = (((pos[0:2] - pos_target).abs() ** gamma).sum(-1) ** (1/gamma) + \\\n",
    "                    ((pos[4:6] - pos_target).abs() ** gamma).sum(-1) ** (1/gamma)).mean()/2\n",
    "    return loss"
   ]
  },
  {
   "cell_type": "code",
   "execution_count": 14,
   "metadata": {},
   "outputs": [],
   "source": [
    "data=trajectories_tensor_reshape1\n",
    "timesteps_each=54\n",
    "data_x=torch.zeros((300000,timesteps_each*8))\n",
    "data_y=torch.zeros((300000,1))\n",
    "data_x_test=torch.zeros((30000,timesteps_each*8))\n",
    "data_y_test=torch.zeros((30000,1))\n",
    "num_data=0\n",
    "pos_target=torch.tensor([0.5,0.5])\n",
    "for i in range(6000):\n",
    "    for j in range(800):\n",
    "        j=j+50\n",
    "        temp=data[i,j:j+timesteps_each,:]\n",
    "        if num_data>=300000:\n",
    "            data_y_test[num_data-300000]=get_y(temp[-1,:],pos_target=pos_target)\n",
    "            # print(temp.shape)\n",
    "            temp=temp.reshape(-1)\n",
    "            # print(temp.shape)\n",
    "            data_x_test[num_data-300000]=temp #shape [192]\n",
    "        else:\n",
    "            data_y[num_data]=get_y(temp[-1,:],pos_target=pos_target)\n",
    "            # print(temp.shape)\n",
    "            temp=temp.reshape(-1)\n",
    "            # print(temp.shape)\n",
    "            data_x[num_data]=temp #shape [192]\n",
    "        num_data=num_data+1\n",
    "        if num_data==330000:\n",
    "            break\n",
    "    if num_data==330000:\n",
    "            break\n",
    "\n",
    "        "
   ]
  },
  {
   "cell_type": "code",
   "execution_count": 15,
   "metadata": {},
   "outputs": [
    {
     "name": "stdout",
     "output_type": "stream",
     "text": [
      "data_x: torch.Size([300000, 432])\n",
      "data_y: torch.Size([300000, 1])\n",
      "data_x_test: tensor([[ 0.3257,  0.4439,  0.0906,  ...,  0.7176,  0.5507, -0.3011],\n",
      "        [ 0.3272,  0.4429,  0.0906,  ...,  0.7125,  0.5507, -0.3011],\n",
      "        [ 0.3287,  0.4418,  0.0906,  ...,  0.7075,  0.5507, -0.3011],\n",
      "        ...,\n",
      "        [ 0.4205,  0.3090,  0.4094,  ...,  0.8100,  0.6171,  0.2099],\n",
      "        [ 0.4273,  0.3059,  0.4094,  ...,  0.8135,  0.6171,  0.2099],\n",
      "        [ 0.4341,  0.3028,  0.4094,  ...,  0.8170,  0.6171,  0.2099]])\n",
      "data_y_test: tensor([[0.2521],\n",
      "        [0.2542],\n",
      "        [0.2564],\n",
      "        ...,\n",
      "        [0.3833],\n",
      "        [0.3879],\n",
      "        [0.3926]])\n"
     ]
    }
   ],
   "source": [
    "print(\"data_x:\",data_x.shape)\n",
    "print(\"data_y:\",data_y.shape)\n",
    "print(\"data_x_test:\",data_x_test)\n",
    "print(\"data_y_test:\",data_y_test)\n",
    "data_x_array=data_x.numpy()\n",
    "data_y_array=data_y.numpy()\n",
    "\n",
    "data_x_test_array=data_x_test.numpy()\n",
    "data_y_test_array=data_y_test.numpy()\n",
    "# np.save(f\"/user/project/inverse_design/dataset/nbody_dataset/INN_dataset_1d/steps-{timesteps_each}/data_x.npy\",data_x_array)\n",
    "# np.save(f\"/user/project/inverse_design/dataset/nbody_dataset/INN_dataset_1d/steps-{timesteps_each}/data_y.npy\",data_y_array)\n",
    "\n",
    "np.save(f\"/user/project/inverse_design/dataset/nbody_dataset/INN_dataset_1d_test/steps-{timesteps_each}/data_x.npy\",data_x_test_array)\n",
    "np.save(f\"/user/project/inverse_design/dataset/nbody_dataset/INN_dataset_1d_test/steps-{timesteps_each}/data_y.npy\",data_y_test_array)\n"
   ]
  },
  {
   "cell_type": "code",
   "execution_count": null,
   "metadata": {},
   "outputs": [],
   "source": [
    "print(\"data_x:\",data_x.shape)\n",
    "print(\"data_y:\",data_y.shape)\n",
    "x_np=np.load(\"/user/project/inverse_design/dataset/nbody_dataset/INN_dataset_1d/data_x.npy\")\n",
    "y_np=np.load(\"/user/project/inverse_design/dataset/nbody_dataset/INN_dataset_1d/data_y.npy\")\n",
    "x_np"
   ]
  }
 ],
 "metadata": {
  "kernelspec": {
   "display_name": "invDes_env",
   "language": "python",
   "name": "python3"
  },
  "language_info": {
   "codemirror_mode": {
    "name": "ipython",
    "version": 3
   },
   "file_extension": ".py",
   "mimetype": "text/x-python",
   "name": "python",
   "nbconvert_exporter": "python",
   "pygments_lexer": "ipython3",
   "version": "3.7.12"
  }
 },
 "nbformat": 4,
 "nbformat_minor": 2
}

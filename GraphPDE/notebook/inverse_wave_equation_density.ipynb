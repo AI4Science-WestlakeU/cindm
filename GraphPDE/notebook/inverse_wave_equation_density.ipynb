{
 "cells": [
  {
   "cell_type": "code",
   "execution_count": null,
   "metadata": {},
   "outputs": [],
   "source": [
    "%load_ext autoreload\n",
    "%autoreload 2"
   ]
  },
  {
   "cell_type": "code",
   "execution_count": null,
   "metadata": {},
   "outputs": [],
   "source": [
    "import sys\n",
    "import os\n",
    "sys.path.append(\"..\")\n",
    "sys.path.append(\"../InverseProblem/inverse_scripts/\")\n",
    "import inverse_gnn\n",
    "import utils\n",
    "import torch\n",
    "from glob import glob\n",
    "import modules\n",
    "import gnn_module\n",
    "import dataio\n",
    "from functools import partial\n",
    "\n",
    "device = \"cuda:0\""
   ]
  },
  {
   "cell_type": "markdown",
   "metadata": {},
   "source": [
    "### config"
   ]
  },
  {
   "cell_type": "code",
   "execution_count": null,
   "metadata": {},
   "outputs": [],
   "source": [
    "data_file = \"../data/data/coarse_valid\"\n",
    "path_to_data = \"../data/\"\n",
    "loss_fn = \"l1\"\n",
    "time_steps = [30]\n",
    "sensor_num = 20\n",
    "start_observation_index = 2\n",
    "obversation_step = 2\n",
    "num_iter = 2000\n",
    "\n",
    "progressive = True\n",
    "repeat_time = 50\n",
    "\n",
    "edge_features = ['dist','direction']\n",
    "node_features=('u', 'v', 'density', 'type')"
   ]
  },
  {
   "cell_type": "markdown",
   "metadata": {},
   "source": [
    "### load dataset"
   ]
  },
  {
   "cell_type": "code",
   "execution_count": null,
   "metadata": {},
   "outputs": [],
   "source": [
    "solver_path = os.path.join(path_to_data,\"model_zoo/gnn_solver.pth\")\n",
    "gnn_solver = gnn_module.mesh_PDE(edge_dim=3,node_dim=4, latent_dim = 256,num_steps=10,layer_norm=True,\n",
    "                                nl='relu',var=0,batch_norm=False,normalize=True,encoder_nl='relu',\n",
    "                                diffMLP=True).to(device)\n",
    "checkpoint_gnn = torch.load(solver_path,map_location=device)\n",
    "gnn_solver.load_state_dict(checkpoint_gnn['model_state_dict'])\n",
    "graph_update_fn = partial(dataio.wave_data_update,('u', 'v', 'density','type'))"
   ]
  },
  {
   "cell_type": "markdown",
   "metadata": {},
   "source": [
    "### load prior"
   ]
  },
  {
   "cell_type": "code",
   "execution_count": null,
   "metadata": {},
   "outputs": [],
   "source": [
    "prior = modules.CoordinateNet_autodecoder(latent_size=64, nl='relu', in_features=64+2, out_features=1,\n",
    "                                hidden_features=256,\n",
    "                                num_hidden_layers=6, num_pe_fns=3,\n",
    "                                w0=60,use_pe=True,skip_connect=None,dataset_size=10000,\n",
    "                                outmost_nonlinearity=\"sigmoid\",outermost_linear=False).to(device)\n",
    "\n",
    "prior_path = os.path.join(path_to_data,\"model_zoo/prior.pth\")\n",
    "checkpoint_prior = torch.load(prior_path,map_location=device)\n",
    "prior.load_state_dict(checkpoint_prior)\n",
    "prior.lat_vecs = None"
   ]
  },
  {
   "cell_type": "markdown",
   "metadata": {},
   "source": [
    "### inverse problem without prior"
   ]
  },
  {
   "cell_type": "code",
   "execution_count": null,
   "metadata": {},
   "outputs": [],
   "source": [
    "lr = 0.001\n",
    "lr_decay = 1\n",
    "lr_decay_steps = 1000\n",
    "reg = 0\n",
    "resolution = 64 ##?\n",
    "log_path = \"./log/density/\"\n",
    "store = True\n",
    "mse_vs_time = os.path.join(log_path, \"mse_vs_time\")\n",
    "run_time = os.path.join(log_path, \"run_time\")\n",
    "individual_npy = os.path.join(log_path, \"individual_npy\")\n",
    "gradient_norms = os.path.join(log_path, \"gradient_norms\")\n",
    "\n",
    "utils.cond_mkdir(log_path)\n",
    "utils.cond_mkdir(mse_vs_time)\n",
    "utils.cond_mkdir(run_time)\n",
    "utils.cond_mkdir(individual_npy)\n",
    "utils.cond_mkdir(gradient_norms)\n",
    "\n",
    "noprior = True\n",
    "prior_type = \"density\"\n",
    "gradient_clip = 0.01\n",
    "\n",
    "\n",
    "inverse_gnn.test_inverse(start_index=0,dataset_size=1,prior=prior,gnn_solver=gnn_solver,\n",
    "                         graph_update_fn=graph_update_fn,time_steps=time_steps,\n",
    "                        sensor_num=sensor_num,num_iter=num_iter,lr=lr,lr_decay=lr_decay,lr_decay_steps=lr_decay_steps,\n",
    "                         resolution=resolution,log_path=log_path,store=store,data_file=data_file,\n",
    "                         edge_features=edge_features,prior_type=prior_type,\n",
    "                        noprior = noprior,loss_fn=loss_fn, progressive=progressive, repeat_time=repeat_time,\n",
    "                         convergence_stop=True,path_to_data=path_to_data,obversation_step= obversation_step,\n",
    "                         start_observation_index=start_observation_index,mask_type=\"random_nodes\",\n",
    "                         gradient_clip=gradient_clip,lr_decay_type=\"per_iter\",reg=reg,device=device)\n"
   ]
  },
  {
   "cell_type": "markdown",
   "metadata": {},
   "source": [
    "### inverse problem with prior"
   ]
  },
  {
   "cell_type": "code",
   "execution_count": null,
   "metadata": {},
   "outputs": [],
   "source": [
    "lr = 0.005\n",
    "lr_decay = 0.5\n",
    "lr_decay_steps = 1000\n",
    "reg = 0.01\n",
    "resolution = 64 ##?\n",
    "log_path = \"./log/density/\"\n",
    "store = True\n",
    "\n",
    "noprior = False\n",
    "prior_type = \"density\"\n",
    "gradient_clip = 0.01\n",
    "\n",
    "\n",
    "inverse_gnn.test_inverse(start_index=0,dataset_size=1,prior=prior,gnn_solver=gnn_solver,\n",
    "                         graph_update_fn=graph_update_fn,time_steps=time_steps,\n",
    "                        sensor_num=sensor_num,num_iter=num_iter,lr=lr,lr_decay=lr_decay,lr_decay_steps=lr_decay_steps,\n",
    "                         resolution=resolution,log_path=log_path,store=store,data_file=data_file,\n",
    "                         edge_features=edge_features,prior_type=prior_type,\n",
    "                        noprior = noprior,loss_fn=loss_fn, progressive=progressive, repeat_time=repeat_time,\n",
    "                         convergence_stop=True,path_to_data=path_to_data,obversation_step= obversation_step,\n",
    "                         start_observation_index=start_observation_index,mask_type=\"random_nodes\",\n",
    "                         gradient_clip=gradient_clip,lr_decay_type=\"per_iter\",reg=reg,device=device)\n"
   ]
  },
  {
   "cell_type": "code",
   "execution_count": null,
   "metadata": {},
   "outputs": [],
   "source": []
  },
  {
   "cell_type": "code",
   "execution_count": null,
   "metadata": {},
   "outputs": [],
   "source": []
  }
 ],
 "metadata": {
  "kernelspec": {
   "display_name": "gnn",
   "language": "python",
   "name": "gnn"
  },
  "language_info": {
   "codemirror_mode": {
    "name": "ipython",
    "version": 3
   },
   "file_extension": ".py",
   "mimetype": "text/x-python",
   "name": "python",
   "nbconvert_exporter": "python",
   "pygments_lexer": "ipython3",
   "version": "3.7.12"
  }
 },
 "nbformat": 4,
 "nbformat_minor": 2
}
